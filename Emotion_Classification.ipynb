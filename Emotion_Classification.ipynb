{
  "nbformat": 4,
  "nbformat_minor": 0,
  "metadata": {
    "colab": {
      "name": "Emotion_Classification.ipynb",
      "provenance": [],
      "collapsed_sections": []
    },
    "kernelspec": {
      "name": "python3",
      "display_name": "Python 3"
    },
    "language_info": {
      "name": "python"
    }
  },
  "cells": [
    {
      "cell_type": "code",
      "metadata": {
        "colab": {
          "base_uri": "https://localhost:8080/"
        },
        "id": "IP5PanaSfuHT",
        "outputId": "e54f152e-8606-4fed-e0ed-5b0142793113"
      },
      "source": [
        "from google.colab import drive\n",
        "drive.mount('/content/drive')"
      ],
      "execution_count": 1,
      "outputs": [
        {
          "output_type": "stream",
          "text": [
            "Mounted at /content/drive\n"
          ],
          "name": "stdout"
        }
      ]
    },
    {
      "cell_type": "code",
      "metadata": {
        "colab": {
          "base_uri": "https://localhost:8080/"
        },
        "id": "4-r0znY1gU2I",
        "outputId": "1de92530-7036-4033-f3bb-8c3d6ab43838"
      },
      "source": [
        "!mkdir dataset\n",
        "!unzip '/content/drive/MyDrive/Dataset/Emotions in text.zip' -d '/content/dataset'"
      ],
      "execution_count": 1,
      "outputs": [
        {
          "output_type": "stream",
          "text": [
            "mkdir: cannot create directory ‘dataset’: File exists\n",
            "Archive:  /content/drive/MyDrive/Dataset/Emotions in text.zip\n",
            "  inflating: /content/dataset/Emotion_final.csv  \n"
          ],
          "name": "stdout"
        }
      ]
    },
    {
      "cell_type": "code",
      "metadata": {
        "id": "DQ2zCvLgfJmj"
      },
      "source": [
        "import numpy as np\n",
        "import pandas as pd\n",
        "import seaborn as sns\n",
        "import matplotlib.pyplot as plt\n",
        "\n",
        "from sklearn.model_selection import train_test_split\n",
        "from sklearn.preprocessing import LabelEncoder\n",
        "\n",
        "import tensorflow as tf\n",
        "from tensorflow.keras.preprocessing.text import Tokenizer\n",
        "from tensorflow.keras.preprocessing.sequence import pad_sequences\n",
        "from tensorflow.keras import layers, callbacks\n",
        "from tensorflow.keras import Model, Sequential\n",
        "\n",
        "from nltk.stem import SnowballStemmer\n",
        "from nltk.corpus import stopwords\n",
        "import re\n",
        "import string"
      ],
      "execution_count": 2,
      "outputs": []
    },
    {
      "cell_type": "code",
      "metadata": {
        "colab": {
          "base_uri": "https://localhost:8080/"
        },
        "id": "yuCPMYkSVXXv",
        "outputId": "d2f35aa0-dc7d-49f1-9911-31713e057139"
      },
      "source": [
        "import nltk\n",
        "nltk.download('stopwords')"
      ],
      "execution_count": 3,
      "outputs": [
        {
          "output_type": "stream",
          "text": [
            "[nltk_data] Downloading package stopwords to /root/nltk_data...\n",
            "[nltk_data]   Package stopwords is already up-to-date!\n"
          ],
          "name": "stdout"
        },
        {
          "output_type": "execute_result",
          "data": {
            "text/plain": [
              "True"
            ]
          },
          "metadata": {
            "tags": []
          },
          "execution_count": 3
        }
      ]
    },
    {
      "cell_type": "code",
      "metadata": {
        "id": "9X3elIAWftNh",
        "colab": {
          "base_uri": "https://localhost:8080/",
          "height": 204
        },
        "outputId": "ebd63c33-7b80-4ddd-80fb-b6aa01b4260d"
      },
      "source": [
        "# Load Dataset\n",
        "dataset = pd.read_csv('/content/dataset/Emotion_final.csv')\n",
        "dataset.tail()"
      ],
      "execution_count": 4,
      "outputs": [
        {
          "output_type": "execute_result",
          "data": {
            "text/html": [
              "<div>\n",
              "<style scoped>\n",
              "    .dataframe tbody tr th:only-of-type {\n",
              "        vertical-align: middle;\n",
              "    }\n",
              "\n",
              "    .dataframe tbody tr th {\n",
              "        vertical-align: top;\n",
              "    }\n",
              "\n",
              "    .dataframe thead th {\n",
              "        text-align: right;\n",
              "    }\n",
              "</style>\n",
              "<table border=\"1\" class=\"dataframe\">\n",
              "  <thead>\n",
              "    <tr style=\"text-align: right;\">\n",
              "      <th></th>\n",
              "      <th>Text</th>\n",
              "      <th>Emotion</th>\n",
              "    </tr>\n",
              "  </thead>\n",
              "  <tbody>\n",
              "    <tr>\n",
              "      <th>21454</th>\n",
              "      <td>Melissa stared at her friend in dism</td>\n",
              "      <td>fear</td>\n",
              "    </tr>\n",
              "    <tr>\n",
              "      <th>21455</th>\n",
              "      <td>Successive state elections have seen the gover...</td>\n",
              "      <td>fear</td>\n",
              "    </tr>\n",
              "    <tr>\n",
              "      <th>21456</th>\n",
              "      <td>Vincent was irritated but not dismay</td>\n",
              "      <td>fear</td>\n",
              "    </tr>\n",
              "    <tr>\n",
              "      <th>21457</th>\n",
              "      <td>Kendall-Hume turned back to face the dismayed ...</td>\n",
              "      <td>fear</td>\n",
              "    </tr>\n",
              "    <tr>\n",
              "      <th>21458</th>\n",
              "      <td>I am dismayed , but not surpris</td>\n",
              "      <td>fear</td>\n",
              "    </tr>\n",
              "  </tbody>\n",
              "</table>\n",
              "</div>"
            ],
            "text/plain": [
              "                                                    Text Emotion\n",
              "21454               Melissa stared at her friend in dism    fear\n",
              "21455  Successive state elections have seen the gover...    fear\n",
              "21456               Vincent was irritated but not dismay    fear\n",
              "21457  Kendall-Hume turned back to face the dismayed ...    fear\n",
              "21458                    I am dismayed , but not surpris    fear"
            ]
          },
          "metadata": {
            "tags": []
          },
          "execution_count": 4
        }
      ]
    },
    {
      "cell_type": "markdown",
      "metadata": {
        "id": "ISV1hM2TndDY"
      },
      "source": [
        "### Preprocessing"
      ]
    },
    {
      "cell_type": "code",
      "metadata": {
        "id": "Tb6lHK06yJO2"
      },
      "source": [
        "# check the missing values\n",
        "def missing_value(data):\n",
        "    missing_data = pd.DataFrame({\n",
        "        'Missing_count':data.isnull().sum(),\n",
        "        'Missing_part (%)':(data.isnull().sum()/len(data))*100\n",
        "    })\n",
        "    missing_data = missing_data[missing_data['Missing_count']!=0]\n",
        "\n",
        "    if len(missing_data) > 0:\n",
        "        return missing_data\n",
        "    else:\n",
        "        return \"No value is lost!!!\""
      ],
      "execution_count": 5,
      "outputs": []
    },
    {
      "cell_type": "code",
      "metadata": {
        "colab": {
          "base_uri": "https://localhost:8080/",
          "height": 35
        },
        "id": "0cemntESTlSi",
        "outputId": "a257bcab-9b38-4f6c-ea88-7e8d6a41c0de"
      },
      "source": [
        "missing_value(dataset)"
      ],
      "execution_count": 6,
      "outputs": [
        {
          "output_type": "execute_result",
          "data": {
            "application/vnd.google.colaboratory.intrinsic+json": {
              "type": "string"
            },
            "text/plain": [
              "'No value is lost!!!'"
            ]
          },
          "metadata": {
            "tags": []
          },
          "execution_count": 6
        }
      ]
    },
    {
      "cell_type": "code",
      "metadata": {
        "colab": {
          "base_uri": "https://localhost:8080/",
          "height": 35
        },
        "id": "ulojzXu2TlN0",
        "outputId": "ea488882-61d5-4cf9-8618-66f7fc58bfd9"
      },
      "source": [
        "missing_value(dataset)"
      ],
      "execution_count": 7,
      "outputs": [
        {
          "output_type": "execute_result",
          "data": {
            "application/vnd.google.colaboratory.intrinsic+json": {
              "type": "string"
            },
            "text/plain": [
              "'No value is lost!!!'"
            ]
          },
          "metadata": {
            "tags": []
          },
          "execution_count": 7
        }
      ]
    },
    {
      "cell_type": "code",
      "metadata": {
        "id": "yKuzCQI8foYx",
        "colab": {
          "base_uri": "https://localhost:8080/",
          "height": 204
        },
        "outputId": "57b79878-7cf7-4533-f685-6b03b553541f"
      },
      "source": [
        "# Encoded Sentiment columns\n",
        "encoder = LabelEncoder()\n",
        "dataset['Label'] = encoder.fit_transform(dataset['Emotion'])\n",
        "dataset.tail()"
      ],
      "execution_count": 8,
      "outputs": [
        {
          "output_type": "execute_result",
          "data": {
            "text/html": [
              "<div>\n",
              "<style scoped>\n",
              "    .dataframe tbody tr th:only-of-type {\n",
              "        vertical-align: middle;\n",
              "    }\n",
              "\n",
              "    .dataframe tbody tr th {\n",
              "        vertical-align: top;\n",
              "    }\n",
              "\n",
              "    .dataframe thead th {\n",
              "        text-align: right;\n",
              "    }\n",
              "</style>\n",
              "<table border=\"1\" class=\"dataframe\">\n",
              "  <thead>\n",
              "    <tr style=\"text-align: right;\">\n",
              "      <th></th>\n",
              "      <th>Text</th>\n",
              "      <th>Emotion</th>\n",
              "      <th>Label</th>\n",
              "    </tr>\n",
              "  </thead>\n",
              "  <tbody>\n",
              "    <tr>\n",
              "      <th>21454</th>\n",
              "      <td>Melissa stared at her friend in dism</td>\n",
              "      <td>fear</td>\n",
              "      <td>1</td>\n",
              "    </tr>\n",
              "    <tr>\n",
              "      <th>21455</th>\n",
              "      <td>Successive state elections have seen the gover...</td>\n",
              "      <td>fear</td>\n",
              "      <td>1</td>\n",
              "    </tr>\n",
              "    <tr>\n",
              "      <th>21456</th>\n",
              "      <td>Vincent was irritated but not dismay</td>\n",
              "      <td>fear</td>\n",
              "      <td>1</td>\n",
              "    </tr>\n",
              "    <tr>\n",
              "      <th>21457</th>\n",
              "      <td>Kendall-Hume turned back to face the dismayed ...</td>\n",
              "      <td>fear</td>\n",
              "      <td>1</td>\n",
              "    </tr>\n",
              "    <tr>\n",
              "      <th>21458</th>\n",
              "      <td>I am dismayed , but not surpris</td>\n",
              "      <td>fear</td>\n",
              "      <td>1</td>\n",
              "    </tr>\n",
              "  </tbody>\n",
              "</table>\n",
              "</div>"
            ],
            "text/plain": [
              "                                                    Text Emotion  Label\n",
              "21454               Melissa stared at her friend in dism    fear      1\n",
              "21455  Successive state elections have seen the gover...    fear      1\n",
              "21456               Vincent was irritated but not dismay    fear      1\n",
              "21457  Kendall-Hume turned back to face the dismayed ...    fear      1\n",
              "21458                    I am dismayed , but not surpris    fear      1"
            ]
          },
          "metadata": {
            "tags": []
          },
          "execution_count": 8
        }
      ]
    },
    {
      "cell_type": "code",
      "metadata": {
        "colab": {
          "base_uri": "https://localhost:8080/"
        },
        "id": "4QDjuD11p79M",
        "outputId": "ac903f42-5ac9-4706-e0c1-21f68d8b2426"
      },
      "source": [
        "num_classes = dataset.Label.nunique()\n",
        "print(num_classes)"
      ],
      "execution_count": 10,
      "outputs": [
        {
          "output_type": "stream",
          "text": [
            "6\n"
          ],
          "name": "stdout"
        }
      ]
    },
    {
      "cell_type": "code",
      "metadata": {
        "id": "lMZtzKmcYDgX"
      },
      "source": [
        "def cleaning_text(text):\n",
        "    stop_words = stopwords.words(\"english\")\n",
        "\n",
        "    text = re.sub(r'http\\S+', \" \", text)    # remove urls\n",
        "    text = re.sub(r'@\\w+',' ',text)         # remove mentions\n",
        "    text = re.sub(r'#\\w+', ' ', text)       # remove hastags\n",
        "    text = re.sub('r<.*?>',' ', text)       # remove html tags\n",
        "    \n",
        "    # remove stopwords \n",
        "    text = text.split()\n",
        "    text = \" \".join([word for word in text if not word in stop_words])\n",
        "\n",
        "    for punctuation in string.punctuation:\n",
        "        text = text.replace(punctuation, \"\")\n",
        "    \n",
        "    return text\n",
        "\n",
        "dataset['Text'] = dataset['Text'].apply(lambda x: cleaning_text(x))"
      ],
      "execution_count": 11,
      "outputs": []
    },
    {
      "cell_type": "code",
      "metadata": {
        "colab": {
          "base_uri": "https://localhost:8080/"
        },
        "id": "XW-_tz2Ibe8H",
        "outputId": "156f98d2-921d-4222-c734-a2c5d38de468"
      },
      "source": [
        "for i in range(5):\n",
        "    print('----------------------------------------------')\n",
        "    random_number=np.random.randint(0,len(dataset)-1)\n",
        "    print(dataset.Text[random_number])\n",
        "    print('----------------------------------------------\\n')"
      ],
      "execution_count": 13,
      "outputs": [
        {
          "output_type": "stream",
          "text": [
            "----------------------------------------------\n",
            "forget time disagreement feels like wronged way every bad thing ever done life every poor choice every single thing agree comes back screaming face\n",
            "----------------------------------------------\n",
            "\n",
            "----------------------------------------------\n",
            "personally well feel lethargic energy\n",
            "----------------------------------------------\n",
            "\n",
            "----------------------------------------------\n",
            "im feeling really stressed work theyre piling much stuff expect creative stuff decorate make\n",
            "----------------------------------------------\n",
            "\n",
            "----------------------------------------------\n",
            "feel like crappy job giving back angle due racing training schedule\n",
            "----------------------------------------------\n",
            "\n",
            "----------------------------------------------\n",
            "feeling jaded\n",
            "----------------------------------------------\n",
            "\n"
          ],
          "name": "stdout"
        }
      ]
    },
    {
      "cell_type": "code",
      "metadata": {
        "colab": {
          "base_uri": "https://localhost:8080/"
        },
        "id": "M9lug0a6kWQR",
        "outputId": "08a366dd-5edc-4ff3-bb1c-b97a4d4eab02"
      },
      "source": [
        "# Maximum sentence length\n",
        "max_len_words = max(list(dataset['Text'].apply(len)))\n",
        "print(max_len_words)"
      ],
      "execution_count": 14,
      "outputs": [
        {
          "output_type": "stream",
          "text": [
            "232\n"
          ],
          "name": "stdout"
        }
      ]
    },
    {
      "cell_type": "code",
      "metadata": {
        "colab": {
          "base_uri": "https://localhost:8080/",
          "height": 333
        },
        "id": "mxWrGm6gLIlI",
        "outputId": "82ade9be-ce09-4b9b-d193-a12d744dff1b"
      },
      "source": [
        "sns.countplot(dataset.Emotion)\n",
        "plt.show()"
      ],
      "execution_count": 38,
      "outputs": [
        {
          "output_type": "stream",
          "text": [
            "/usr/local/lib/python3.7/dist-packages/seaborn/_decorators.py:43: FutureWarning: Pass the following variable as a keyword arg: x. From version 0.12, the only valid positional argument will be `data`, and passing other arguments without an explicit keyword will result in an error or misinterpretation.\n",
            "  FutureWarning\n"
          ],
          "name": "stderr"
        },
        {
          "output_type": "display_data",
          "data": {
            "image/png": "[encoded data removed]",
            "text/plain": [
              "<Figure size 432x288 with 1 Axes>"
            ]
          },
          "metadata": {
            "tags": [],
            "needs_background": "light"
          }
        }
      ]
    },
    {
      "cell_type": "code",
      "metadata": {
        "id": "zwrXTtOKklEu",
        "colab": {
          "base_uri": "https://localhost:8080/"
        },
        "outputId": "cfd31f8a-7622-466a-ec1d-bd10a745bd89"
      },
      "source": [
        "def tokenizer(x_train, y_train, max_len_word):\n",
        "    # because the data distribution is imbalanced, \"stratify\" is used\n",
        "    X_train, X_val, y_train, y_val = train_test_split(x_train, y_train, \n",
        "                                                      test_size=.2, shuffle=True, \n",
        "                                                      stratify=y_train, random_state=0)\n",
        "\n",
        "    # Tokenizer\n",
        "    tokenizer = Tokenizer(num_words=5000)\n",
        "    tokenizer.fit_on_texts(X_train)\n",
        "    sequence_dict = tokenizer.word_index\n",
        "    word_dict = dict((num, val) for (val, num) in sequence_dict.items())\n",
        "\n",
        "    # Sequence data\n",
        "    train_sequences = tokenizer.texts_to_sequences(X_train)\n",
        "    train_padded = pad_sequences(train_sequences,\n",
        "                                 maxlen=max_len_word,\n",
        "                                 truncating='post',\n",
        "                                 padding='post')\n",
        "    \n",
        "    val_sequences = tokenizer.texts_to_sequences(X_val)\n",
        "    val_padded = pad_sequences(val_sequences,\n",
        "                                maxlen=max_len_word,\n",
        "                                truncating='post',\n",
        "                                padding='post', )\n",
        "    \n",
        "    print(train_padded.shape)\n",
        "    print(val_padded.shape)\n",
        "    print('Total words: {}'.format(len(word_dict)))\n",
        "    return train_padded, val_padded, y_train, y_val, word_dict\n",
        "\n",
        "X_train, X_val, y_train, y_val, word_dict = tokenizer(dataset.Text, dataset.Label, 100)"
      ],
      "execution_count": 52,
      "outputs": [
        {
          "output_type": "stream",
          "text": [
            "(17167, 100)\n",
            "(4292, 100)\n",
            "Total words: 17099\n"
          ],
          "name": "stdout"
        }
      ]
    },
    {
      "cell_type": "markdown",
      "metadata": {
        "id": "TeMb9QcE86rH"
      },
      "source": [
        "### Model"
      ]
    },
    {
      "cell_type": "code",
      "metadata": {
        "id": "GNx2tdhk8e-t"
      },
      "source": [
        "model = Sequential([\n",
        "    layers.Embedding(5000, 100, input_length=100),\n",
        "    layers.Bidirectional(layers.LSTM(64, return_sequences=True, recurrent_dropout=0.4)),\n",
        "    #layers.BatchNormalization(),\n",
        "    layers.GlobalAveragePooling1D(),    # or layers.Flatten()\n",
        "    layers.Dense(64, activation='relu', kernel_regularizer=tf.keras.regularizers.l1()),\n",
        "    layers.Dropout(0.4),\n",
        "    layers.Dense(num_classes, activation='softmax')\n",
        "])"
      ],
      "execution_count": 66,
      "outputs": []
    },
    {
      "cell_type": "code",
      "metadata": {
        "colab": {
          "base_uri": "https://localhost:8080/"
        },
        "id": "CqsJtO4tawCN",
        "outputId": "75235a82-7074-402a-9259-dba4a1a84c6d"
      },
      "source": [
        "model.summary()"
      ],
      "execution_count": 67,
      "outputs": [
        {
          "output_type": "stream",
          "text": [
            "Model: \"sequential_6\"\n",
            "_________________________________________________________________\n",
            "Layer (type)                 Output Shape              Param #   \n",
            "=================================================================\n",
            "embedding_6 (Embedding)      (None, 100, 100)          500000    \n",
            "_________________________________________________________________\n",
            "bidirectional_6 (Bidirection (None, 100, 128)          84480     \n",
            "_________________________________________________________________\n",
            "global_average_pooling1d_4 ( (None, 128)               0         \n",
            "_________________________________________________________________\n",
            "dense_12 (Dense)             (None, 64)                8256      \n",
            "_________________________________________________________________\n",
            "dropout_6 (Dropout)          (None, 64)                0         \n",
            "_________________________________________________________________\n",
            "dense_13 (Dense)             (None, 6)                 390       \n",
            "=================================================================\n",
            "Total params: 593,126\n",
            "Trainable params: 593,126\n",
            "Non-trainable params: 0\n",
            "_________________________________________________________________\n"
          ],
          "name": "stdout"
        }
      ]
    },
    {
      "cell_type": "code",
      "metadata": {
        "id": "RdIQHl-j8e4g"
      },
      "source": [
        "model.compile(loss=tf.keras.losses.SparseCategoricalCrossentropy(),\n",
        "              optimizer=tf.keras.optimizers.Adam(learning_rate=0.001),\n",
        "              metrics=['accuracy'])"
      ],
      "execution_count": 68,
      "outputs": []
    },
    {
      "cell_type": "code",
      "metadata": {
        "colab": {
          "base_uri": "https://localhost:8080/"
        },
        "id": "lbTRem4ui0ye",
        "outputId": "754a0cda-b036-4937-d475-0447821c2991"
      },
      "source": [
        "import time\n",
        "start = time.perf_counter()\n",
        "early_stopping = callbacks.EarlyStopping(monitor =\"val_loss\", \n",
        "                                         mode =\"min\", patience=3)\n",
        "\n",
        "history = model.fit(X_train, y_train,\n",
        "                    epochs=50, \n",
        "                    validation_data=(X_val, y_val),\n",
        "                    callbacks=[early_stopping], \n",
        "                    shuffle=True)\n",
        "\n",
        "elapsed = time.perf_counter() - start\n",
        "print('Elapsed %.3f seconds.' % elapsed)"
      ],
      "execution_count": 69,
      "outputs": [
        {
          "output_type": "stream",
          "text": [
            "Epoch 1/50\n",
            "537/537 [==============================] - 147s 264ms/step - loss: 2.4634 - accuracy: 0.3141 - val_loss: 1.5530 - val_accuracy: 0.3276\n",
            "Epoch 2/50\n",
            "537/537 [==============================] - 143s 266ms/step - loss: 1.4104 - accuracy: 0.3588 - val_loss: 1.3561 - val_accuracy: 0.3751\n",
            "Epoch 3/50\n",
            "537/537 [==============================] - 141s 263ms/step - loss: 1.3056 - accuracy: 0.4125 - val_loss: 1.3237 - val_accuracy: 0.4152\n",
            "Epoch 4/50\n",
            "537/537 [==============================] - 141s 263ms/step - loss: 1.2633 - accuracy: 0.4092 - val_loss: 1.3128 - val_accuracy: 0.4005\n",
            "Epoch 5/50\n",
            "537/537 [==============================] - 144s 267ms/step - loss: 1.2131 - accuracy: 0.4284 - val_loss: 1.2798 - val_accuracy: 0.4208\n",
            "Epoch 6/50\n",
            "537/537 [==============================] - 143s 266ms/step - loss: 1.2104 - accuracy: 0.4326 - val_loss: 1.2510 - val_accuracy: 0.4280\n",
            "Epoch 7/50\n",
            "537/537 [==============================] - 142s 264ms/step - loss: 1.1656 - accuracy: 0.4460 - val_loss: 1.2401 - val_accuracy: 0.4306\n",
            "Epoch 8/50\n",
            "537/537 [==============================] - 142s 264ms/step - loss: 1.1197 - accuracy: 0.4501 - val_loss: 1.2291 - val_accuracy: 0.4287\n",
            "Epoch 9/50\n",
            "537/537 [==============================] - 141s 263ms/step - loss: 1.0956 - accuracy: 0.4559 - val_loss: 1.2887 - val_accuracy: 0.4464\n",
            "Epoch 10/50\n",
            "537/537 [==============================] - 140s 262ms/step - loss: 1.0576 - accuracy: 0.4836 - val_loss: 1.1459 - val_accuracy: 0.4760\n",
            "Epoch 11/50\n",
            "537/537 [==============================] - 141s 262ms/step - loss: 0.9917 - accuracy: 0.5016 - val_loss: 1.1441 - val_accuracy: 0.4753\n",
            "Epoch 12/50\n",
            "537/537 [==============================] - 141s 262ms/step - loss: 0.9521 - accuracy: 0.5169 - val_loss: 1.1604 - val_accuracy: 0.4856\n",
            "Epoch 13/50\n",
            "537/537 [==============================] - 141s 262ms/step - loss: 0.9220 - accuracy: 0.5231 - val_loss: 1.1414 - val_accuracy: 0.4879\n",
            "Epoch 14/50\n",
            "537/537 [==============================] - 141s 262ms/step - loss: 0.8999 - accuracy: 0.5306 - val_loss: 1.1493 - val_accuracy: 0.4909\n",
            "Epoch 15/50\n",
            "537/537 [==============================] - 142s 264ms/step - loss: 0.8791 - accuracy: 0.5387 - val_loss: 1.1383 - val_accuracy: 0.5172\n",
            "Epoch 16/50\n",
            "537/537 [==============================] - 141s 262ms/step - loss: 0.8261 - accuracy: 0.5993 - val_loss: 1.0160 - val_accuracy: 0.6198\n",
            "Epoch 17/50\n",
            "537/537 [==============================] - 140s 262ms/step - loss: 0.7423 - accuracy: 0.6561 - val_loss: 1.0103 - val_accuracy: 0.6454\n",
            "Epoch 18/50\n",
            "537/537 [==============================] - 142s 264ms/step - loss: 0.6799 - accuracy: 0.7288 - val_loss: 0.9081 - val_accuracy: 0.8048\n",
            "Epoch 19/50\n",
            "537/537 [==============================] - 142s 264ms/step - loss: 0.4814 - accuracy: 0.8984 - val_loss: 0.7199 - val_accuracy: 0.8674\n",
            "Epoch 20/50\n",
            "537/537 [==============================] - 141s 262ms/step - loss: 0.3694 - accuracy: 0.9378 - val_loss: 0.7364 - val_accuracy: 0.8726\n",
            "Epoch 21/50\n",
            "537/537 [==============================] - 141s 263ms/step - loss: 0.3283 - accuracy: 0.9461 - val_loss: 0.6755 - val_accuracy: 0.8802\n",
            "Epoch 22/50\n",
            "537/537 [==============================] - 141s 263ms/step - loss: 0.3089 - accuracy: 0.9533 - val_loss: 0.6734 - val_accuracy: 0.8840\n",
            "Epoch 23/50\n",
            "537/537 [==============================] - 141s 263ms/step - loss: 0.2719 - accuracy: 0.9579 - val_loss: 0.6808 - val_accuracy: 0.8889\n",
            "Epoch 24/50\n",
            "537/537 [==============================] - 140s 261ms/step - loss: 0.2542 - accuracy: 0.9626 - val_loss: 0.7304 - val_accuracy: 0.8861\n",
            "Epoch 25/50\n",
            "537/537 [==============================] - 142s 265ms/step - loss: 0.2347 - accuracy: 0.9678 - val_loss: 0.7048 - val_accuracy: 0.8896\n",
            "Elapsed 3540.537 seconds.\n"
          ],
          "name": "stdout"
        }
      ]
    },
    {
      "cell_type": "code",
      "metadata": {
        "colab": {
          "base_uri": "https://localhost:8080/",
          "height": 281
        },
        "id": "rdAaI48J2Aq6",
        "outputId": "75ad7766-1227-46a7-b54f-11e0bc4bcdef"
      },
      "source": [
        "# Plotting accuracy and val_accuracy\n",
        "acc = history.history['accuracy']\n",
        "val_acc = history.history['val_accuracy']\n",
        "\n",
        "loss = history.history['loss']\n",
        "val_loss = history.history['val_loss']\n",
        "\n",
        "epochs_range = range(1, len(val_acc)+1)\n",
        "plt.figure(figsize=(12, 4))\n",
        "\n",
        "plt.subplot(1, 2, 1)\n",
        "plt.plot(epochs_range, acc, label='Training Accuracy')\n",
        "plt.plot(epochs_range, val_acc, label='Validation Accuracy')\n",
        "plt.legend(loc='lower right')\n",
        "plt.xlim(1, len(val_acc)+1)\n",
        "plt.title('Training and Validation Accuracy')\n",
        "\n",
        "plt.subplot(1, 2, 2)\n",
        "plt.plot(epochs_range, loss, label='Training Loss')\n",
        "plt.plot(epochs_range, val_loss, label='Validation Loss')\n",
        "plt.legend(loc='upper right')\n",
        "plt.xlim(1, len(val_acc)+1)\n",
        "plt.title('Training and Validation Loss')\n",
        "plt.show()"
      ],
      "execution_count": 70,
      "outputs": [
        {
          "output_type": "display_data",
          "data": {
            "image/png": "[encoded data removed]",
            "text/plain": [
              "<Figure size 864x288 with 2 Axes>"
            ]
          },
          "metadata": {
            "tags": [],
            "needs_background": "light"
          }
        }
      ]
    },
    {
      "cell_type": "code",
      "metadata": {
        "id": "I27Ha55xUUhc"
      },
      "source": [
        ""
      ],
      "execution_count": null,
      "outputs": []
    }
  ]
}